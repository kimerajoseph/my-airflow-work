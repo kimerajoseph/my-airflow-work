{
 "cells": [
  {
   "cell_type": "code",
   "execution_count": 2,
   "metadata": {},
   "outputs": [
    {
     "data": {
      "text/plain": [
       "True"
      ]
     },
     "execution_count": 2,
     "metadata": {},
     "output_type": "execute_result"
    }
   ],
   "source": [
    "import awswrangler as wr\n",
    "import pandas as pd\n",
    "import numpy as np\n",
    "import os\n",
    "from dotenv import load_dotenv\n",
    "load_dotenv()"
   ]
  },
  {
   "cell_type": "code",
   "execution_count": 3,
   "metadata": {},
   "outputs": [],
   "source": [
    "BUCKET_NAME = os.getenv(\"bucket_name\")\n",
    "redshift_db = os.getenv(\"database\")\n",
    "redshift_user = os.getenv(\"user\")\n",
    "redshift_password = os.getenv(\"password\")\n",
    "redshift_host = os.getenv(\"host\")"
   ]
  },
  {
   "cell_type": "markdown",
   "metadata": {},
   "source": [
    "## COPY DATA FROM S3 TO REDSHIFT"
   ]
  },
  {
   "cell_type": "code",
   "execution_count": 52,
   "metadata": {},
   "outputs": [],
   "source": [
    "s3_path=f\"s3://{BUCKET_NAME}/green_tripdata_2021-01.parquet\""
   ]
  },
  {
   "cell_type": "code",
   "execution_count": 55,
   "metadata": {},
   "outputs": [
    {
     "data": {
      "text/plain": [
       "VendorID                 0\n",
       "lpep_pickup_datetime     0\n",
       "lpep_dropoff_datetime    0\n",
       "trip_distance            0\n",
       "fare_amount              0\n",
       "extra                    0\n",
       "mta_tax                  0\n",
       "tip_amount               0\n",
       "tolls_amount             0\n",
       "improvement_surcharge    0\n",
       "total_amount             0\n",
       "dtype: int64"
      ]
     },
     "execution_count": 55,
     "metadata": {},
     "output_type": "execute_result"
    }
   ],
   "source": [
    "s3_data = wr.s3.read_parquet(path=s3_path)\n",
    "\n",
    "# drop columns with NaN. redshift does not allow data witn NaN\n",
    "s3_data = s3_data.drop([\"payment_type\",\"trip_type\",\"congestion_surcharge\",\"ehail_fee\",\"store_and_fwd_flag\",\n",
    "\"RatecodeID\",\"PULocationID\",\"DOLocationID\",\"passenger_count\"], axis=1)\n",
    "s3_data.isna().sum()\n"
   ]
  },
  {
   "cell_type": "code",
   "execution_count": 57,
   "metadata": {},
   "outputs": [],
   "source": [
    "\n",
    "conn = wr.redshift.connect(\"AWS_GLUE_REDSHIFT_CONNECTION\")\n",
    "wr.redshift.to_sql(\n",
    "    df=s3_data,\n",
    "    table=\"trip_data\",\n",
    "    schema=\"public\",\n",
    "    con=conn\n",
    ")\n",
    "conn.close()"
   ]
  },
  {
   "cell_type": "code",
   "execution_count": 58,
   "metadata": {},
   "outputs": [
    {
     "data": {
      "text/plain": [
       "(76518, 11)"
      ]
     },
     "execution_count": 58,
     "metadata": {},
     "output_type": "execute_result"
    }
   ],
   "source": [
    "s3_data.shape"
   ]
  },
  {
   "cell_type": "markdown",
   "metadata": {},
   "source": [
    "## MOVE DATA FROM REDSHIFT TO S3"
   ]
  },
  {
   "cell_type": "code",
   "execution_count": 61,
   "metadata": {},
   "outputs": [],
   "source": [
    "conn = wr.redshift.connect(\"AWS_GLUE_REDSHIFT_CONNECTION\")\n",
    "wr.redshift.unload(\n",
    "    sql=\"SELECT * FROM public.trip_data\",\n",
    "    con=conn,\n",
    "    #iam_role=iam_role,\n",
    "    path=f\"s3://{BUCKET_NAME}/redshift.parquet\",\n",
    "    keep_files=True,\n",
    ")\n",
    "conn.close()"
   ]
  },
  {
   "cell_type": "markdown",
   "metadata": {},
   "source": [
    "## LIST ALL FILES IN S3 BUCKET"
   ]
  },
  {
   "cell_type": "code",
   "execution_count": null,
   "metadata": {},
   "outputs": [],
   "source": [
    "for file in wr.s3.list_objects(path=f\"s3://{BUCKET_NAME}\"):\n",
    "    print(file.split(\"/\")[-1])"
   ]
  },
  {
   "cell_type": "code",
   "execution_count": 7,
   "metadata": {},
   "outputs": [
    {
     "data": {
      "text/plain": [
       "(1589, 2)"
      ]
     },
     "execution_count": 7,
     "metadata": {},
     "output_type": "execute_result"
    }
   ],
   "source": [
    "csv_data=wr.s3.read_csv(path=f\"s3://{BUCKET_NAME}/SOE_4th_22nd_Nov_2022.csv\")\n",
    "csv_data.shape"
   ]
  },
  {
   "cell_type": "code",
   "execution_count": 8,
   "metadata": {},
   "outputs": [
    {
     "data": {
      "text/plain": [
       "Index(['time', 'event'], dtype='object')"
      ]
     },
     "execution_count": 8,
     "metadata": {},
     "output_type": "execute_result"
    }
   ],
   "source": [
    "csv_data.columns"
   ]
  },
  {
   "cell_type": "code",
   "execution_count": 10,
   "metadata": {},
   "outputs": [
    {
     "data": {
      "text/html": [
       "<div>\n",
       "<style scoped>\n",
       "    .dataframe tbody tr th:only-of-type {\n",
       "        vertical-align: middle;\n",
       "    }\n",
       "\n",
       "    .dataframe tbody tr th {\n",
       "        vertical-align: top;\n",
       "    }\n",
       "\n",
       "    .dataframe thead th {\n",
       "        text-align: right;\n",
       "    }\n",
       "</style>\n",
       "<table border=\"1\" class=\"dataframe\">\n",
       "  <thead>\n",
       "    <tr style=\"text-align: right;\">\n",
       "      <th></th>\n",
       "      <th>time</th>\n",
       "      <th>event</th>\n",
       "    </tr>\n",
       "  </thead>\n",
       "  <tbody>\n",
       "    <tr>\n",
       "      <th>0</th>\n",
       "      <td>45:38.4</td>\n",
       "      <td>OFEX 132 GTX14 CB Open</td>\n",
       "    </tr>\n",
       "    <tr>\n",
       "      <th>1</th>\n",
       "      <td>46:03.4</td>\n",
       "      <td>OFEX 132 GTX14 CB Closed</td>\n",
       "    </tr>\n",
       "    <tr>\n",
       "      <th>2</th>\n",
       "      <td>47:16.7</td>\n",
       "      <td>OFEX 132 GTX14 CB Open</td>\n",
       "    </tr>\n",
       "    <tr>\n",
       "      <th>3</th>\n",
       "      <td>49:46.9</td>\n",
       "      <td>OFEX 132 GTX14 CB Closed</td>\n",
       "    </tr>\n",
       "    <tr>\n",
       "      <th>4</th>\n",
       "      <td>51:08.2</td>\n",
       "      <td>OFEX 132 GTX14 CB Open</td>\n",
       "    </tr>\n",
       "  </tbody>\n",
       "</table>\n",
       "</div>"
      ],
      "text/plain": [
       "      time                     event\n",
       "0  45:38.4    OFEX 132 GTX14 CB Open\n",
       "1  46:03.4  OFEX 132 GTX14 CB Closed\n",
       "2  47:16.7    OFEX 132 GTX14 CB Open\n",
       "3  49:46.9  OFEX 132 GTX14 CB Closed\n",
       "4  51:08.2    OFEX 132 GTX14 CB Open"
      ]
     },
     "execution_count": 10,
     "metadata": {},
     "output_type": "execute_result"
    }
   ],
   "source": [
    "csv_data.head()"
   ]
  },
  {
   "cell_type": "code",
   "execution_count": 11,
   "metadata": {},
   "outputs": [
    {
     "data": {
      "text/plain": [
       "{'paths': ['s3://airflow-jkimera-bucket/SOE_4th_22nd_Nov_2022.parquet'],\n",
       " 'partitions_values': {}}"
      ]
     },
     "execution_count": 11,
     "metadata": {},
     "output_type": "execute_result"
    }
   ],
   "source": [
    "wr.s3.to_parquet(path=f\"s3://{BUCKET_NAME}/SOE_4th_22nd_Nov_2022.parquet\", df=csv_data)"
   ]
  },
  {
   "cell_type": "code",
   "execution_count": null,
   "metadata": {},
   "outputs": [],
   "source": []
  }
 ],
 "metadata": {
  "kernelspec": {
   "display_name": "Python 3.7.6 ('base')",
   "language": "python",
   "name": "python3"
  },
  "language_info": {
   "codemirror_mode": {
    "name": "ipython",
    "version": 3
   },
   "file_extension": ".py",
   "mimetype": "text/x-python",
   "name": "python",
   "nbconvert_exporter": "python",
   "pygments_lexer": "ipython3",
   "version": "3.7.6"
  },
  "orig_nbformat": 4,
  "vscode": {
   "interpreter": {
    "hash": "4b8e647a79df62bf31906a725b05de775d285962ac600487339d38c51a5c07b1"
   }
  }
 },
 "nbformat": 4,
 "nbformat_minor": 2
}
