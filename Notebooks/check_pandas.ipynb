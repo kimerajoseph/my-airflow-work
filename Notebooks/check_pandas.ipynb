{
 "cells": [
  {
   "cell_type": "code",
   "execution_count": 15,
   "metadata": {},
   "outputs": [
    {
     "data": {
      "text/plain": [
       "True"
      ]
     },
     "execution_count": 15,
     "metadata": {},
     "output_type": "execute_result"
    }
   ],
   "source": [
    "import pandas as pd\n",
    "import awswrangler as wr\n",
    "import os\n",
    "from dotenv import load_dotenv\n",
    "load_dotenv()"
   ]
  },
  {
   "cell_type": "code",
   "execution_count": 16,
   "metadata": {},
   "outputs": [],
   "source": [
    "BUCKET_NAME = os.getenv(\"bucket_name\")\n",
    "#BUCKET_NAME"
   ]
  },
  {
   "cell_type": "code",
   "execution_count": 17,
   "metadata": {},
   "outputs": [
    {
     "data": {
      "text/plain": [
       "(76518, 20)"
      ]
     },
     "execution_count": 17,
     "metadata": {},
     "output_type": "execute_result"
    }
   ],
   "source": [
    "s3_data = wr.s3.read_parquet(path=f\"s3://{BUCKET_NAME}/green_tripdata_2021-01.parquet\")\n",
    "#s3_data = wr.s3.read_parquet(path=\"s3://airflow-jkimera-bucket/green_tripdata_2021-01.parquet\")\n",
    "s3_data.shape"
   ]
  },
  {
   "cell_type": "code",
   "execution_count": 18,
   "metadata": {},
   "outputs": [
    {
     "data": {
      "text/plain": [
       "VendorID                          Int64\n",
       "lpep_pickup_datetime     datetime64[ns]\n",
       "lpep_dropoff_datetime    datetime64[ns]\n",
       "store_and_fwd_flag               string\n",
       "RatecodeID                      float64\n",
       "PULocationID                      Int64\n",
       "DOLocationID                      Int64\n",
       "passenger_count                 float64\n",
       "trip_distance                   float64\n",
       "fare_amount                     float64\n",
       "extra                           float64\n",
       "mta_tax                         float64\n",
       "tip_amount                      float64\n",
       "tolls_amount                    float64\n",
       "ehail_fee                        object\n",
       "improvement_surcharge           float64\n",
       "total_amount                    float64\n",
       "payment_type                    float64\n",
       "trip_type                       float64\n",
       "congestion_surcharge            float64\n",
       "dtype: object"
      ]
     },
     "execution_count": 18,
     "metadata": {},
     "output_type": "execute_result"
    }
   ],
   "source": [
    "s3_data.dtypes"
   ]
  },
  {
   "cell_type": "code",
   "execution_count": 19,
   "metadata": {},
   "outputs": [
    {
     "name": "stdout",
     "output_type": "stream",
     "text": [
      "Reading the file\n",
      "mlflow\n",
      "jupyter\n",
      "scikit-learn\n",
      "pandas\n",
      "seaborn\n",
      "hyperopt\n",
      "xgboost\n",
      "fastparquet\n",
      "boto3\n"
     ]
    }
   ],
   "source": [
    "import boto3\n",
    "client = boto3.client('s3')\n",
    "    \n",
    "print(\"Reading the file\")        \n",
    "obj = client.get_object(Bucket=BUCKET_NAME, Key='new_req.txt')\n",
    "lin = obj['Body'].read().decode(\"utf-8\")\n",
    "print(lin)\n"
   ]
  },
  {
   "cell_type": "code",
   "execution_count": 20,
   "metadata": {},
   "outputs": [],
   "source": [
    "# s3_data.dropna(inplace=True)\n",
    "# s3_data.isna().sum()"
   ]
  },
  {
   "cell_type": "code",
   "execution_count": 21,
   "metadata": {},
   "outputs": [
    {
     "data": {
      "text/plain": [
       "(76518, 20)"
      ]
     },
     "execution_count": 21,
     "metadata": {},
     "output_type": "execute_result"
    }
   ],
   "source": [
    "s3_data.shape"
   ]
  },
  {
   "cell_type": "code",
   "execution_count": 22,
   "metadata": {},
   "outputs": [
    {
     "data": {
      "text/plain": [
       "VendorID                     0\n",
       "lpep_pickup_datetime         0\n",
       "lpep_dropoff_datetime        0\n",
       "store_and_fwd_flag       36047\n",
       "RatecodeID               36047\n",
       "PULocationID                 0\n",
       "DOLocationID                 0\n",
       "passenger_count          36047\n",
       "trip_distance                0\n",
       "fare_amount                  0\n",
       "extra                        0\n",
       "mta_tax                      0\n",
       "tip_amount                   0\n",
       "tolls_amount                 0\n",
       "ehail_fee                76518\n",
       "improvement_surcharge        0\n",
       "total_amount                 0\n",
       "payment_type             36047\n",
       "trip_type                36047\n",
       "congestion_surcharge     36047\n",
       "dtype: int64"
      ]
     },
     "execution_count": 22,
     "metadata": {},
     "output_type": "execute_result"
    }
   ],
   "source": [
    "s3_data.isna().sum()"
   ]
  },
  {
   "cell_type": "code",
   "execution_count": 24,
   "metadata": {},
   "outputs": [
    {
     "data": {
      "text/plain": [
       "VendorID                 0\n",
       "lpep_pickup_datetime     0\n",
       "lpep_dropoff_datetime    0\n",
       "trip_distance            0\n",
       "fare_amount              0\n",
       "extra                    0\n",
       "mta_tax                  0\n",
       "tip_amount               0\n",
       "tolls_amount             0\n",
       "improvement_surcharge    0\n",
       "total_amount             0\n",
       "dtype: int64"
      ]
     },
     "execution_count": 24,
     "metadata": {},
     "output_type": "execute_result"
    }
   ],
   "source": [
    "s3_data = s3_data.drop([\"payment_type\",\"trip_type\",\"congestion_surcharge\",\"ehail_fee\",\"store_and_fwd_flag\",\n",
    "\"RatecodeID\",\"PULocationID\",\"DOLocationID\",\"passenger_count\"], axis=1)\n",
    "s3_data.isna().sum()"
   ]
  },
  {
   "cell_type": "code",
   "execution_count": 25,
   "metadata": {},
   "outputs": [
    {
     "data": {
      "text/plain": [
       "(76518, 11)"
      ]
     },
     "execution_count": 25,
     "metadata": {},
     "output_type": "execute_result"
    }
   ],
   "source": [
    "s3_data.shape"
   ]
  },
  {
   "cell_type": "code",
   "execution_count": 26,
   "metadata": {},
   "outputs": [
    {
     "data": {
      "text/plain": [
       "vendorid                          Int64\n",
       "lpep_pickup_datetime     datetime64[ns]\n",
       "lpep_dropoff_datetime    datetime64[ns]\n",
       "trip_distance                   float64\n",
       "fare_amount                     float64\n",
       "extra                           float64\n",
       "mta_tax                         float64\n",
       "tip_amount                      float64\n",
       "tolls_amount                    float64\n",
       "improvement_surcharge           float64\n",
       "total_amount                    float64\n",
       "dtype: object"
      ]
     },
     "execution_count": 26,
     "metadata": {},
     "output_type": "execute_result"
    }
   ],
   "source": [
    "#parq_test = wr.s3.read_parquet(\"redshift.parquet/\")\n",
    "parq_test = wr.s3.read_parquet(path=f\"s3://{BUCKET_NAME}/redshift.parquet\")\n",
    "parq_test.dtypes"
   ]
  },
  {
   "cell_type": "code",
   "execution_count": 32,
   "metadata": {},
   "outputs": [
    {
     "name": "stdout",
     "output_type": "stream",
     "text": [
      "category.gz\n",
      "date.gz\n",
      "event.gz\n",
      "green_tripdata_2021-01.parquet\n",
      "0000_part_00.parquet\n",
      "listing.gz\n",
      "new_req.txt\n",
      "0000_part_00.parquet\n",
      "req.txt\n",
      "requirements.txt\n",
      "sales.gz\n",
      "users.gz\n",
      "venue.gz\n"
     ]
    }
   ],
   "source": [
    "for file in wr.s3.list_objects(path=f\"s3://{BUCKET_NAME}\"):\n",
    "    print(file.split(\"/\")[-1])\n"
   ]
  },
  {
   "cell_type": "code",
   "execution_count": 28,
   "metadata": {},
   "outputs": [
    {
     "name": "stdout",
     "output_type": "stream",
     "text": [
      "category.gz\n",
      "date.gz\n",
      "event.gz\n",
      "green_tripdata_2021-01.parquet\n",
      "green_tripdata_2021-01.parquet/0000_part_00.parquet\n",
      "listing.gz\n",
      "new_req.txt\n",
      "redshift.parquet/0000_part_00.parquet\n",
      "req.txt\n",
      "requirements.txt\n",
      "sales.gz\n",
      "users.gz\n",
      "venue.gz\n"
     ]
    }
   ],
   "source": [
    "import boto3\n",
    "\n",
    "s3 = boto3.resource('s3')\n",
    "bucket = s3.Bucket(BUCKET_NAME)\n",
    "\n",
    "for file in bucket.objects.all():\n",
    "    print(file.key)"
   ]
  },
  {
   "cell_type": "code",
   "execution_count": null,
   "metadata": {},
   "outputs": [],
   "source": []
  }
 ],
 "metadata": {
  "kernelspec": {
   "display_name": "Python 3.7.6 ('base')",
   "language": "python",
   "name": "python3"
  },
  "language_info": {
   "codemirror_mode": {
    "name": "ipython",
    "version": 3
   },
   "file_extension": ".py",
   "mimetype": "text/x-python",
   "name": "python",
   "nbconvert_exporter": "python",
   "pygments_lexer": "ipython3",
   "version": "3.7.6"
  },
  "orig_nbformat": 4,
  "vscode": {
   "interpreter": {
    "hash": "4b8e647a79df62bf31906a725b05de775d285962ac600487339d38c51a5c07b1"
   }
  }
 },
 "nbformat": 4,
 "nbformat_minor": 2
}
